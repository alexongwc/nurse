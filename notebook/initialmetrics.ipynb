{
 "cells": [
  {
   "cell_type": "code",
   "execution_count": 2,
   "id": "4a21944a",
   "metadata": {},
   "outputs": [
    {
     "name": "stdout",
     "output_type": "stream",
     "text": [
      "Preference match rate: 20.13%\n",
      "\n",
      "Per nurse preference match rate:\n",
      " nurse_id\n",
      "N001    0.000000\n",
      "N002    0.833333\n",
      "N003    0.142857\n",
      "N004    0.172414\n",
      "N005    0.333333\n",
      "N006    0.166667\n",
      "N007    0.200000\n",
      "N008    0.264706\n",
      "N009    0.205128\n",
      "N010    0.142857\n",
      "N011    0.155556\n",
      "N012    0.250000\n",
      "N013    0.000000\n",
      "N014    0.000000\n",
      "N015    0.000000\n",
      "N016    0.500000\n",
      "N017    0.170455\n",
      "N018    0.229412\n",
      "N019    0.000000\n",
      "N020    0.400000\n",
      "N021    0.166667\n",
      "N022    0.166667\n",
      "N023    0.166667\n",
      "N024    0.000000\n",
      "N025    0.000000\n",
      "N026    0.000000\n",
      "N027    0.333333\n",
      "N028    0.000000\n",
      "N029    0.157895\n",
      "N030    0.178571\n",
      "Name: preference_match, dtype: float64\n"
     ]
    }
   ],
   "source": [
    "import pandas as pd\n",
    "\n",
    "# Read your CSVs\n",
    "pred = pd.read_csv(\"C:\\\\Users\\\\Alex\\\\nurse\\\\data\\\\assignment_ui_output.csv\")\n",
    "pref = pd.read_csv(\"C:\\\\Users\\\\Alex\\\\nurse\\\\data\\\\preference.csv\")\n",
    "\n",
    "# Merge them on nurse_id and date (add ward if needed)\n",
    "df = pd.merge(pred, pref, on=['nurse_id', 'date'], how='left')\n",
    "\n",
    "# Add match column\n",
    "df['preference_match'] = df['shift'] == df['preferred_shift']\n",
    "\n",
    "# Overall match rate\n",
    "match_rate = df['preference_match'].mean()\n",
    "print(f\"Preference match rate: {match_rate:.2%}\")\n",
    "\n",
    "# (Optional) Per-nurse match rate\n",
    "nurse_pref_score = df.groupby('nurse_id')['preference_match'].mean()\n",
    "print(\"\\nPer nurse preference match rate:\\n\", nurse_pref_score)\n",
    "\n",
    "# (Optional) Save results for review\n",
    "df.to_csv(\"preference_evaluation.csv\", index=False)\n"
   ]
  },
  {
   "cell_type": "markdown",
   "id": "e737101c",
   "metadata": {},
   "source": [
    "| Match Rate | Interpretation             |\n",
    "| ---------- | -------------------------- |\n",
    "| < 25%      | Very low, needs fixing     |\n",
    "| 30–50%     | Reasonable, typical        |\n",
    "| 50–70%     | Good, hospital happy       |\n",
    "| > 70%      | Excellent, rarely feasible |\n"
   ]
  }
 ],
 "metadata": {
  "kernelspec": {
   "display_name": "nurse",
   "language": "python",
   "name": "python3"
  },
  "language_info": {
   "codemirror_mode": {
    "name": "ipython",
    "version": 3
   },
   "file_extension": ".py",
   "mimetype": "text/x-python",
   "name": "python",
   "nbconvert_exporter": "python",
   "pygments_lexer": "ipython3",
   "version": "3.11.11"
  }
 },
 "nbformat": 4,
 "nbformat_minor": 5
}
