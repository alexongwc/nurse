{
 "cells": [
  {
   "cell_type": "code",
   "execution_count": 1,
   "id": "be8201d0",
   "metadata": {},
   "outputs": [
    {
     "name": "stdout",
     "output_type": "stream",
     "text": [
      "Preference match rate: 13.37%\n",
      "\n",
      "Per nurse preference match rate:\n",
      " nurse_id\n",
      "N001    1.000000\n",
      "N002    0.333333\n",
      "N003    0.000000\n",
      "N004    0.250000\n",
      "N005    0.142857\n",
      "N006    0.333333\n",
      "N007    0.125000\n",
      "N008    0.146067\n",
      "N009    0.000000\n",
      "N010    0.250000\n",
      "N011    0.250000\n",
      "N012    0.000000\n",
      "N013    0.000000\n",
      "N014    0.000000\n",
      "N015    0.250000\n",
      "N016    0.000000\n",
      "N017    0.000000\n",
      "N018    0.180000\n",
      "N019    0.250000\n",
      "N020    0.150943\n",
      "N021    0.000000\n",
      "N022    0.333333\n",
      "N023    0.000000\n",
      "N024    0.000000\n",
      "N025    0.000000\n",
      "N026    0.000000\n",
      "N027    0.055556\n",
      "N028    0.000000\n",
      "N029    0.000000\n",
      "N030    0.000000\n",
      "N031    0.123746\n",
      "N032    0.250000\n",
      "N033    0.333333\n",
      "N034    0.000000\n",
      "N035    0.125000\n",
      "N036    0.000000\n",
      "N037    0.000000\n",
      "N038    0.000000\n",
      "N039    0.000000\n",
      "N040    0.000000\n",
      "Name: preference_match, dtype: float64\n"
     ]
    }
   ],
   "source": [
    "import pandas as pd\n",
    "\n",
    "# Read your CSVs\n",
    "pred = pd.read_csv(\"C:\\\\Users\\\\Alex\\\\nurse\\\\data\\\\assignment_ui_output.csv\")\n",
    "pref = pd.read_csv(\"C:\\\\Users\\\\Alex\\\\nurse\\\\data\\\\preference.csv\")\n",
    "\n",
    "# Merge them on nurse_id and date (add ward if needed)\n",
    "df = pd.merge(pred, pref, on=['nurse_id', 'date'], how='left')\n",
    "\n",
    "# Add match column\n",
    "df['preference_match'] = df['shift'] == df['preferred_shift']\n",
    "\n",
    "# Overall match rate\n",
    "match_rate = df['preference_match'].mean()\n",
    "print(f\"Preference match rate: {match_rate:.2%}\")\n",
    "\n",
    "# (Optional) Per-nurse match rate\n",
    "nurse_pref_score = df.groupby('nurse_id')['preference_match'].mean()\n",
    "print(\"\\nPer nurse preference match rate:\\n\", nurse_pref_score)\n",
    "\n",
    "# (Optional) Save results for review\n",
    "df.to_csv(\"preference_evaluation.csv\", index=False)\n"
   ]
  }
 ],
 "metadata": {
  "kernelspec": {
   "display_name": "nurse",
   "language": "python",
   "name": "python3"
  },
  "language_info": {
   "codemirror_mode": {
    "name": "ipython",
    "version": 3
   },
   "file_extension": ".py",
   "mimetype": "text/x-python",
   "name": "python",
   "nbconvert_exporter": "python",
   "pygments_lexer": "ipython3",
   "version": "3.11.11"
  }
 },
 "nbformat": 4,
 "nbformat_minor": 5
}
