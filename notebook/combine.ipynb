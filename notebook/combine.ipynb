{
 "cells": [
  {
   "cell_type": "markdown",
   "id": "558947d0",
   "metadata": {},
   "source": [
    "Combine Scheduled data and Preference data "
   ]
  },
  {
   "cell_type": "code",
   "execution_count": 9,
   "id": "0712a3cc",
   "metadata": {},
   "outputs": [
    {
     "name": "stdout",
     "output_type": "stream",
     "text": [
      "  nurse_id        date ward  shift  duration_hours  week       start_time  \\\n",
      "0     N008  2025-06-01    A  Night               8  22.0  0 days 00:00:00   \n",
      "1     N030  2025-06-01    A  Flex1               4  22.0  0 days 08:00:00   \n",
      "2     N004  2025-06-01    A  Flex2               4  22.0  0 days 12:00:00   \n",
      "3     N008  2025-06-01    A  Flex3               4  22.0  0 days 16:00:00   \n",
      "4     N003  2025-06-01    A  Flex4               4  22.0  0 days 20:00:00   \n",
      "\n",
      "          end_time  label  \n",
      "0  0 days 08:00:00      1  \n",
      "1  0 days 12:00:00      1  \n",
      "2  0 days 16:00:00      1  \n",
      "3  0 days 20:00:00      1  \n",
      "4  1 days 00:00:00      1  \n",
      "Total edges: 3633\n",
      "label\n",
      "1    2800\n",
      "0     833\n",
      "Name: count, dtype: int64\n"
     ]
    }
   ],
   "source": [
    "import pandas as pd\n",
    "\n",
    "# Load datasets\n",
    "schedule_df = pd.read_csv('../../data/data.csv')\n",
    "preference_df = pd.read_csv('../../data/datapreference.csv')\n",
    "\n",
    "# Standardize column names for merging\n",
    "if 'preferred_shift' in preference_df.columns:\n",
    "    preference_df = preference_df.rename(columns={'preferred_shift': 'shift'})\n",
    "if 'preferred_ward' in preference_df.columns:\n",
    "    preference_df = preference_df.rename(columns={'preferred_ward': 'ward'})\n",
    "\n",
    "# Label assignments: 1 for assigned (in schedule), 0 for not assigned (only in preferences)\n",
    "schedule_df['label'] = 1\n",
    "\n",
    "# Only keep preference rows NOT already assigned in schedule\n",
    "merge_keys = ['nurse_id', 'date', 'shift', 'ward']\n",
    "pref_unassigned = pd.merge(\n",
    "    preference_df, \n",
    "    schedule_df[merge_keys], \n",
    "    on=merge_keys, \n",
    "    how='left', \n",
    "    indicator=True\n",
    ")\n",
    "pref_unassigned = pref_unassigned[pref_unassigned['_merge'] == 'left_only'].drop(columns=['_merge'])\n",
    "pref_unassigned['label'] = 0\n",
    "\n",
    "# Concatenate into one edge list\n",
    "edge_df = pd.concat([schedule_df, pref_unassigned], ignore_index=True)\n",
    "\n",
    "# Optional: engineer additional features for GAT here!\n",
    "# Example: edge_df['is_preference'] = (edge_df['label'] == 0).astype(int)\n",
    "\n",
    "# Check result\n",
    "print(edge_df.head())\n",
    "print(\"Total edges:\", len(edge_df))\n",
    "print(edge_df['label'].value_counts())\n",
    "\n",
    "edge_df.to_csv('../../data/edges_for_gat.csv', index=False)\n"
   ]
  }
 ],
 "metadata": {
  "kernelspec": {
   "display_name": "nurse",
   "language": "python",
   "name": "python3"
  },
  "language_info": {
   "codemirror_mode": {
    "name": "ipython",
    "version": 3
   },
   "file_extension": ".py",
   "mimetype": "text/x-python",
   "name": "python",
   "nbconvert_exporter": "python",
   "pygments_lexer": "ipython3",
   "version": "3.11.11"
  }
 },
 "nbformat": 4,
 "nbformat_minor": 5
}
