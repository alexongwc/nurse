{
 "cells": [
  {
   "cell_type": "code",
   "execution_count": 1,
   "id": "3cba698c",
   "metadata": {},
   "outputs": [],
   "source": [
    "import pandas as pd\n",
    "import numpy as np\n",
    "\n",
    "# Load your edge_df (from previous step or csv)\n",
    "edge_df = pd.read_csv('../../data/edges_for_gat.csv')\n",
    "\n",
    "# Make unique identifiers for shifts (date+shift+ward)\n",
    "edge_df['shift_id'] = edge_df['date'].astype(str) + \"_\" + edge_df['shift'] + \"_\" + edge_df['ward']\n",
    "\n",
    "# Build mappings\n",
    "nurse2idx = {n:i for i, n in enumerate(edge_df['nurse_id'].unique())}\n",
    "shift2idx = {s:i+len(nurse2idx) for i, s in enumerate(edge_df['shift_id'].unique())}  # shift indices after nurses\n",
    "\n",
    "# Add index columns\n",
    "edge_df['nurse_idx'] = edge_df['nurse_id'].map(nurse2idx)\n",
    "edge_df['shift_idx'] = edge_df['shift_id'].map(shift2idx)\n"
   ]
  },
  {
   "cell_type": "code",
   "execution_count": 2,
   "id": "952538a7",
   "metadata": {},
   "outputs": [
    {
     "name": "stderr",
     "output_type": "stream",
     "text": [
      "C:\\Users\\Alex\\AppData\\Local\\Temp\\ipykernel_4120\\1715278712.py:3: UserWarning: Creating a tensor from a list of numpy.ndarrays is extremely slow. Please consider converting the list to a single numpy.ndarray with numpy.array() before converting to a tensor. (Triggered internally at C:\\actions-runner\\_work\\pytorch\\pytorch\\pytorch\\torch\\csrc\\utils\\tensor_new.cpp:257.)\n",
      "  edge_index = torch.tensor([\n"
     ]
    }
   ],
   "source": [
    "import torch\n",
    "\n",
    "edge_index = torch.tensor([\n",
    "    edge_df['nurse_idx'].values,\n",
    "    edge_df['shift_idx'].values\n",
    "], dtype=torch.long)\n"
   ]
  },
  {
   "cell_type": "code",
   "execution_count": 3,
   "id": "b9467cd4",
   "metadata": {},
   "outputs": [],
   "source": [
    "num_nurses = len(nurse2idx)\n",
    "num_shifts = len(shift2idx)\n",
    "num_nodes = num_nurses + num_shifts\n",
    "\n",
    "# Example: type encoding (nurse=0, shift=1)\n",
    "x = torch.zeros((num_nodes, 1))\n",
    "x[num_nurses:, 0] = 1\n"
   ]
  },
  {
   "cell_type": "code",
   "execution_count": 4,
   "id": "b47f3bf2",
   "metadata": {},
   "outputs": [],
   "source": [
    "y = torch.tensor(edge_df['label'].values, dtype=torch.float)  # shape: [num_edges]\n"
   ]
  },
  {
   "cell_type": "code",
   "execution_count": 6,
   "id": "7330fdc8",
   "metadata": {},
   "outputs": [],
   "source": [
    "from torch_geometric.data import Data\n",
    "\n",
    "data = Data(\n",
    "    x=x,  # node features\n",
    "    edge_index=edge_index,\n",
    "    edge_attr=None,  # optional, can use None\n",
    "    y=y\n",
    ")\n"
   ]
  },
  {
   "cell_type": "code",
   "execution_count": 7,
   "id": "0cb4c9f6",
   "metadata": {},
   "outputs": [
    {
     "name": "stdout",
     "output_type": "stream",
     "text": [
      "Data(x=[1859, 1], edge_index=[2, 3633], y=[3633])\n",
      "Number of nodes: 1859\n",
      "Number of edges: 3633\n",
      "Node features shape: torch.Size([1859, 1])\n"
     ]
    }
   ],
   "source": [
    "print(data)\n",
    "print(\"Number of nodes:\", data.num_nodes)\n",
    "print(\"Number of edges:\", data.num_edges)\n",
    "print(\"Node features shape:\", data.x.shape)\n"
   ]
  }
 ],
 "metadata": {
  "kernelspec": {
   "display_name": "nurse",
   "language": "python",
   "name": "python3"
  },
  "language_info": {
   "codemirror_mode": {
    "name": "ipython",
    "version": 3
   },
   "file_extension": ".py",
   "mimetype": "text/x-python",
   "name": "python",
   "nbconvert_exporter": "python",
   "pygments_lexer": "ipython3",
   "version": "3.11.11"
  }
 },
 "nbformat": 4,
 "nbformat_minor": 5
}
